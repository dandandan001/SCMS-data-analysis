{
 "cells": [
  {
   "cell_type": "code",
   "execution_count": 8,
   "id": "5f382cf8",
   "metadata": {},
   "outputs": [],
   "source": [
    "from statsmodels.stats.power import TTestIndPower\n",
    "\n",
    "def calculate_power(d, alpha=0.05, n1=32, n2=33, alternative='two-sided'):\n",
    "    \"\"\"\n",
    "    Calculate the power (1 - beta error probability) for a t-test given the effect size (d), \n",
    "    alpha error probability, sample sizes of two groups, and the type of test.\n",
    "    \n",
    "    Parameters:\n",
    "    d (float): Effect size (Cohen's d)\n",
    "    alpha (float): Alpha error probability (default: 0.05)\n",
    "    n1 (int): Sample size of group 1 (default: 34)\n",
    "    n2 (int): Sample size of group 2 (default: 30)\n",
    "    alternative (str): Type of test, 'two-sided' for two-tailed (default: 'two-sided')\n",
    "    \n",
    "    Returns:\n",
    "    float: Calculated power (1 - beta error probability)\n",
    "    \"\"\"\n",
    "    # Initialize the TTestIndPower object\n",
    "    analysis = TTestIndPower()\n",
    "    \n",
    "    # Total sample size\n",
    "    n_total = n1 + n2\n",
    "    \n",
    "    # Calculate power\n",
    "    power = analysis.power(effect_size=d, \n",
    "                           nobs1=n1, \n",
    "                           alpha=alpha, \n",
    "                           ratio=n2 / n1, \n",
    "                           alternative=alternative)\n",
    "    return power\n",
    "\n",
    "filename = \"C:/Users/bhusa/Desktop/Power analysis/d value_new/d value new 1.csv\"\n",
    "\n"
   ]
  },
  {
   "cell_type": "code",
   "execution_count": 9,
   "id": "b0564782",
   "metadata": {},
   "outputs": [],
   "source": [
    "import pandas as pd\n",
    "\n",
    "# Function to read a CSV file and return a list\n",
    "def read_csv_to_list(file_path):\n",
    "    \"\"\"\n",
    "    Reads a CSV file with one column and returns its content as a Python list.\n",
    "    \n",
    "    Parameters:\n",
    "    file_path (str): Path to the CSV file.\n",
    "    \n",
    "    Returns:\n",
    "    list: List containing the data from the single column.\n",
    "    \"\"\"\n",
    "    # Read the CSV file\n",
    "    data = pd.read_csv(file_path)\n",
    "    \n",
    "    # Convert the column to a list\n",
    "    return data.iloc[:, 0].tolist()\n",
    "\n",
    "# Example usage\n",
    "data_list = read_csv_to_list(filename)\n",
    "\n",
    "# Print the Python list\n",
    "is_number = lambda s: s.replace('.', '', 1).isdigit() if s else False\n",
    "\n"
   ]
  },
  {
   "cell_type": "code",
   "execution_count": 10,
   "id": "f47d9a5c",
   "metadata": {},
   "outputs": [],
   "source": [
    "power = []\n",
    "for d in data_list:\n",
    "    if type(d) == type(0.1) or is_number(d):\n",
    "        d = float(d)\n",
    "        power.append(calculate_power(d))\n",
    "    else:\n",
    "        power.append(0)"
   ]
  },
  {
   "cell_type": "code",
   "execution_count": 11,
   "id": "e9d1a932",
   "metadata": {},
   "outputs": [
    {
     "data": {
      "text/plain": [
       "True"
      ]
     },
     "execution_count": 11,
     "metadata": {},
     "output_type": "execute_result"
    }
   ],
   "source": [
    "len(power) == len(data_list)"
   ]
  },
  {
   "cell_type": "code",
   "execution_count": 12,
   "id": "5664897f",
   "metadata": {},
   "outputs": [],
   "source": [
    "import csv\n",
    "output_file = \"C:/Users/bhusa/Desktop/Power analysis/d value_new/Book5.csv\"\n",
    "with open(output_file, mode='w', newline='') as file:\n",
    "    writer = csv.writer(file)\n",
    "    # Write header\n",
    "    writer.writerow(['Column A', 'Column B'])\n",
    "    # Write rows\n",
    "    writer.writerows(zip(data_list, power))\n"
   ]
  },
  {
   "cell_type": "code",
   "execution_count": null,
   "id": "bfa78d83",
   "metadata": {},
   "outputs": [],
   "source": []
  }
 ],
 "metadata": {
  "kernelspec": {
   "display_name": "Python 3 (ipykernel)",
   "language": "python",
   "name": "python3"
  },
  "language_info": {
   "codemirror_mode": {
    "name": "ipython",
    "version": 3
   },
   "file_extension": ".py",
   "mimetype": "text/x-python",
   "name": "python",
   "nbconvert_exporter": "python",
   "pygments_lexer": "ipython3",
   "version": "3.11.4"
  }
 },
 "nbformat": 4,
 "nbformat_minor": 5
}
